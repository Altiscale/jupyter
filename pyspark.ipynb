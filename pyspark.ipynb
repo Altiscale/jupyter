{
 "cells": [
  {
   "cell_type": "markdown",
   "metadata": {},
   "source": [
    "<img src=\"altiscale_logo.png\" width=300 height=300 align=center>"
   ]
  },
  {
   "cell_type": "markdown",
   "metadata": {},
   "source": [
    "# Welcome to Altiscale Data Cloud"
   ]
  },
  {
   "cell_type": "markdown",
   "metadata": {},
   "source": [
    "## First let's print the spark context"
   ]
  },
  {
   "cell_type": "code",
   "execution_count": 1,
   "metadata": {
    "collapsed": false
   },
   "outputs": [
    {
     "name": "stdout",
     "output_type": "stream",
     "text": [
      "<pyspark.context.SparkContext object at 0x7fc9eed678d0>\n"
     ]
    }
   ],
   "source": [
    "print sc"
   ]
  },
  {
   "cell_type": "markdown",
   "metadata": {},
   "source": [
    "## Computing Pi value"
   ]
  },
  {
   "cell_type": "code",
   "execution_count": 2,
   "metadata": {
    "collapsed": false
   },
   "outputs": [
    {
     "name": "stdout",
     "output_type": "stream",
     "text": [
      "Pi is roughly 3.143880\n"
     ]
    }
   ],
   "source": [
    "from operator import add\n",
    "partitions = 5\n",
    "n = 100000 * partitions\n",
    "from pandas import *\n",
    "def f(_):\n",
    "    from random import random\n",
    "    x = random() * 2 - 1\n",
    "    y = random() * 2 - 1\n",
    "    return 1 if x**2 + y**2 < 1 else 0\n",
    "count = sc.parallelize(range(1, n+1), partitions).map(f).reduce(add)\n",
    "print(\"Pi is roughly %f\" % (4.0 * count / n))"
   ]
  },
  {
   "cell_type": "markdown",
   "metadata": {},
   "source": [
    " "
   ]
  },
  {
   "cell_type": "markdown",
   "metadata": {},
   "source": [
    "## Analyzing Bay Area bike share trips"
   ]
  },
  {
   "cell_type": "markdown",
   "metadata": {},
   "source": [
    "We'll analyze the Bay Area bike share trips' data for the period of September 2014 to August 2015. \n",
    "\n",
    "This dataset is available for download at http://www.bayareabikeshare.com/open-data. "
   ]
  },
  {
   "cell_type": "code",
   "execution_count": 3,
   "metadata": {
    "collapsed": true
   },
   "outputs": [],
   "source": [
    "from pyspark.sql import SQLContext\n",
    "sqlContext = SQLContext(sc)"
   ]
  },
  {
   "cell_type": "markdown",
   "metadata": {},
   "source": [
    "### Let's load a sample dataset into Spark dataframe "
   ]
  },
  {
   "cell_type": "markdown",
   "metadata": {},
   "source": [
    "The file \"201508_trip_data.json\" should be copied to your HDFS home folder. The file can be found in the git repo. To copy to hdfs, you can hdfs dfs shell. For example: hdfs dfs -copyFromLocal /local/path/to/201508_trip_data.json."
   ]
  },
  {
   "cell_type": "code",
   "execution_count": 4,
   "metadata": {
    "collapsed": true
   },
   "outputs": [],
   "source": [
    "b_trip_data = sqlContext.read.json(\"201508_trip_data.json\")"
   ]
  },
  {
   "cell_type": "code",
   "execution_count": 5,
   "metadata": {
    "collapsed": false
   },
   "outputs": [
    {
     "name": "stdout",
     "output_type": "stream",
     "text": [
      "<class 'pyspark.sql.dataframe.DataFrame'>\n"
     ]
    }
   ],
   "source": [
    "print(type(b_trip_data))"
   ]
  },
  {
   "cell_type": "markdown",
   "metadata": {},
   "source": [
    "### Let's look at the schema of the data"
   ]
  },
  {
   "cell_type": "code",
   "execution_count": 6,
   "metadata": {
    "collapsed": false
   },
   "outputs": [
    {
     "name": "stdout",
     "output_type": "stream",
     "text": [
      "root\n",
      " |-- Bike_id: string (nullable = true)\n",
      " |-- Duration: string (nullable = true)\n",
      " |-- End_date: string (nullable = true)\n",
      " |-- End_station: string (nullable = true)\n",
      " |-- End_terminal: string (nullable = true)\n",
      " |-- Start_date: string (nullable = true)\n",
      " |-- Start_station: string (nullable = true)\n",
      " |-- Start_terminal: string (nullable = true)\n",
      " |-- Subscription_type: string (nullable = true)\n",
      " |-- Trip_id: string (nullable = true)\n",
      " |-- Zipcode: string (nullable = true)\n",
      "\n"
     ]
    }
   ],
   "source": [
    "b_trip_data.printSchema()"
   ]
  },
  {
   "cell_type": "markdown",
   "metadata": {},
   "source": [
    "### Displaying a sample row from the data"
   ]
  },
  {
   "cell_type": "code",
   "execution_count": 7,
   "metadata": {
    "collapsed": false
   },
   "outputs": [
    {
     "data": {
      "text/plain": [
       "[Row(Bike_id=u'288', Duration=u'765', End_date=u'8/31/2015 23:39', End_station=u'San Francisco Caltrain (Townsend at 4th)', End_terminal=u'70', Start_date=u'8/31/2015 23:26', Start_station=u'Harry Bridges Plaza (Ferry Building)', Start_terminal=u'50', Subscription_type=u'Subscriber', Trip_id=u'913460', Zipcode=u'2139'),\n",
       " Row(Bike_id=u'35', Duration=u'1036', End_date=u'8/31/2015 23:28', End_station=u'Mountain View City Hall', End_terminal=u'27', Start_date=u'8/31/2015 23:11', Start_station=u'San Antonio Shopping Center', Start_terminal=u'31', Subscription_type=u'Subscriber', Trip_id=u'913459', Zipcode=u'95032')]"
      ]
     },
     "execution_count": 7,
     "metadata": {},
     "output_type": "execute_result"
    }
   ],
   "source": [
    "b_trip_data.take(2)"
   ]
  },
  {
   "cell_type": "markdown",
   "metadata": {},
   "source": [
    "### Registering the Spark data frame (b_trip_data) as a table"
   ]
  },
  {
   "cell_type": "code",
   "execution_count": 8,
   "metadata": {
    "collapsed": true
   },
   "outputs": [],
   "source": [
    "sqlContext.registerDataFrameAsTable(b_trip_data, \"bay_area_bike_trips\")"
   ]
  },
  {
   "cell_type": "markdown",
   "metadata": {},
   "source": [
    "### Popular Bay Area Bike Share routes"
   ]
  },
  {
   "cell_type": "code",
   "execution_count": 9,
   "metadata": {
    "collapsed": false
   },
   "outputs": [],
   "source": [
    "popularRoutes = sqlContext.sql(\"SELECT Start_station, End_station,  COUNT(*) as cnt FROM bay_area_bike_trips GROUP BY Start_station, End_station ORDER BY cnt DESC\")\n"
   ]
  },
  {
   "cell_type": "markdown",
   "metadata": {},
   "source": [
    "### Top 10 routes"
   ]
  },
  {
   "cell_type": "code",
   "execution_count": 10,
   "metadata": {
    "collapsed": false
   },
   "outputs": [
    {
     "name": "stdout",
     "output_type": "stream",
     "text": [
      "+--------------------+--------------------+----+\n",
      "|       Start_station|         End_station| cnt|\n",
      "+--------------------+--------------------+----+\n",
      "|San Francisco Cal...|     Townsend at 7th|3748|\n",
      "|Harry Bridges Pla...|Embarcadero at Sa...|3145|\n",
      "|     2nd at Townsend|Harry Bridges Pla...|2973|\n",
      "|     Townsend at 7th|San Francisco Cal...|2734|\n",
      "|Harry Bridges Pla...|     2nd at Townsend|2640|\n",
      "|Embarcadero at Fo...|San Francisco Cal...|2439|\n",
      "|   Steuart at Market|     2nd at Townsend|2356|\n",
      "|Embarcadero at Sa...|   Steuart at Market|2330|\n",
      "|     Townsend at 7th|San Francisco Cal...|2192|\n",
      "|Temporary Transba...|San Francisco Cal...|2184|\n",
      "+--------------------+--------------------+----+\n",
      "only showing top 10 rows\n",
      "\n"
     ]
    }
   ],
   "source": [
    "popularRoutes.show(10)"
   ]
  },
  {
   "cell_type": "markdown",
   "metadata": {},
   "source": [
    "### Find top 20 stations where the bikes' demand is more than others"
   ]
  },
  {
   "cell_type": "code",
   "execution_count": 29,
   "metadata": {
    "collapsed": false
   },
   "outputs": [
    {
     "name": "stdout",
     "output_type": "stream",
     "text": [
      "+--------------------+-----+\n",
      "|       Start_station|count|\n",
      "+--------------------+-----+\n",
      "|San Francisco Cal...|26304|\n",
      "|San Francisco Cal...|21758|\n",
      "|Harry Bridges Pla...|17255|\n",
      "|Temporary Transba...|14436|\n",
      "|Embarcadero at Sa...|14158|\n",
      "|     2nd at Townsend|14026|\n",
      "|     Townsend at 7th|13752|\n",
      "|   Steuart at Market|13687|\n",
      "|      Market at 10th|11885|\n",
      "|   Market at Sansome|11431|\n",
      "|       Market at 4th| 9894|\n",
      "|  Powell Street BART| 9695|\n",
      "|   2nd at South Park| 9469|\n",
      "|     Beale at Market| 8359|\n",
      "|Grant Avenue at C...| 8337|\n",
      "|       2nd at Folsom| 7999|\n",
      "|Civic Center BART...| 7760|\n",
      "|       5th at Howard| 7708|\n",
      "|Broadway St at Ba...| 7676|\n",
      "|Embarcadero at Fo...| 7596|\n",
      "+--------------------+-----+\n",
      "only showing top 20 rows\n",
      "\n"
     ]
    }
   ],
   "source": [
    "b_trip_data.groupBy(\"Start_station\").count().orderBy(\"count\", ascending=0).show()"
   ]
  },
  {
   "cell_type": "markdown",
   "metadata": {},
   "source": [
    "#### This time, let's run a SQL query"
   ]
  },
  {
   "cell_type": "code",
   "execution_count": 12,
   "metadata": {
    "collapsed": true
   },
   "outputs": [],
   "source": [
    "stationDemand = sqlContext.sql(\"SELECT Start_station, count(*) as cnt FROM bay_area_bike_trips GROUP BY Start_station ORDER BY cnt DESC\")"
   ]
  },
  {
   "cell_type": "code",
   "execution_count": 13,
   "metadata": {
    "collapsed": false
   },
   "outputs": [
    {
     "name": "stdout",
     "output_type": "stream",
     "text": [
      "+--------------------+-----+\n",
      "|       Start_station|  cnt|\n",
      "+--------------------+-----+\n",
      "|San Francisco Cal...|26304|\n",
      "|San Francisco Cal...|21758|\n",
      "|Harry Bridges Pla...|17255|\n",
      "|Temporary Transba...|14436|\n",
      "|Embarcadero at Sa...|14158|\n",
      "|     2nd at Townsend|14026|\n",
      "|     Townsend at 7th|13752|\n",
      "|   Steuart at Market|13687|\n",
      "|      Market at 10th|11885|\n",
      "|   Market at Sansome|11431|\n",
      "|       Market at 4th| 9894|\n",
      "|  Powell Street BART| 9695|\n",
      "|   2nd at South Park| 9469|\n",
      "|     Beale at Market| 8359|\n",
      "|Grant Avenue at C...| 8337|\n",
      "|       2nd at Folsom| 7999|\n",
      "|Civic Center BART...| 7760|\n",
      "|       5th at Howard| 7708|\n",
      "|Broadway St at Ba...| 7676|\n",
      "|Embarcadero at Fo...| 7596|\n",
      "+--------------------+-----+\n",
      "only showing top 20 rows\n",
      "\n"
     ]
    }
   ],
   "source": [
    "stationDemand.show(20)"
   ]
  },
  {
   "cell_type": "markdown",
   "metadata": {},
   "source": [
    "### Closer look at top 2 stations, 330 Townsend terminal (id=69) and Townsend 4th terminal (id = 70)"
   ]
  },
  {
   "cell_type": "code",
   "execution_count": 14,
   "metadata": {
    "collapsed": true
   },
   "outputs": [],
   "source": [
    "sffromcaltrips = sqlContext.sql(\"SELECT * FROM bay_area_bike_trips WHERE Start_terminal IN (69,70)\")"
   ]
  },
  {
   "cell_type": "code",
   "execution_count": 15,
   "metadata": {
    "collapsed": true
   },
   "outputs": [],
   "source": [
    "sqlContext.registerDataFrameAsTable(sffromcaltrips, \"sf_from_caltrain_bike_trips\")"
   ]
  },
  {
   "cell_type": "code",
   "execution_count": 16,
   "metadata": {
    "collapsed": false
   },
   "outputs": [
    {
     "data": {
      "text/plain": [
       "48062"
      ]
     },
     "execution_count": 16,
     "metadata": {},
     "output_type": "execute_result"
    }
   ],
   "source": [
    "sffromcaltrips.count()"
   ]
  },
  {
   "cell_type": "code",
   "execution_count": 33,
   "metadata": {
    "collapsed": false
   },
   "outputs": [
    {
     "name": "stdout",
     "output_type": "stream",
     "text": [
      "+--------------------+--------------+--------------------+--------+\n",
      "|       Start_station|Start_terminal|         End_station|Duration|\n",
      "+--------------------+--------------+--------------------+--------+\n",
      "|San Francisco Cal...|            70|   2nd at South Park|     100|\n",
      "|San Francisco Cal...|            69|San Francisco Cal...|     100|\n",
      "|San Francisco Cal...|            69|San Francisco Cal...|     100|\n",
      "|San Francisco Cal...|            70|   2nd at South Park|     100|\n",
      "|San Francisco Cal...|            70|     Clay at Battery|    1000|\n",
      "|San Francisco Cal...|            69|    Davis at Jackson|    1000|\n",
      "|San Francisco Cal...|            70|South Van Ness at...|    1000|\n",
      "|San Francisco Cal...|            70|Embarcadero at Va...|    1000|\n",
      "|San Francisco Cal...|            69|  Powell Street BART|    1000|\n",
      "|San Francisco Cal...|            69|   Market at Sansome|    1000|\n",
      "|San Francisco Cal...|            70|Embarcadero at Sa...|    1000|\n",
      "|San Francisco Cal...|            70|    Davis at Jackson|    1000|\n",
      "|San Francisco Cal...|            70|   Steuart at Market|    1000|\n",
      "|San Francisco Cal...|            70|Embarcadero at Va...|    1000|\n",
      "|San Francisco Cal...|            70|Embarcadero at Fo...|    1000|\n",
      "|San Francisco Cal...|            69|Broadway St at Ba...|    1000|\n",
      "|San Francisco Cal...|            70|     Clay at Battery|    1000|\n",
      "|San Francisco Cal...|            69|     Beale at Market|    1000|\n",
      "|San Francisco Cal...|            70|Commercial at Mon...|    1000|\n",
      "|San Francisco Cal...|            70|     Beale at Market|    1001|\n",
      "+--------------------+--------------+--------------------+--------+\n",
      "only showing top 20 rows\n",
      "\n"
     ]
    }
   ],
   "source": [
    "sffromcaltrips.select(\"Start_station\",\"Start_terminal\", \"End_station\", \"Duration\").sort(\"Duration\").show()"
   ]
  },
  {
   "cell_type": "markdown",
   "metadata": {},
   "source": [
    "### Let's plot the number of bikes that are picked from top 2 stations and dropped at other stations"
   ]
  },
  {
   "cell_type": "code",
   "execution_count": 18,
   "metadata": {
    "collapsed": false
   },
   "outputs": [],
   "source": [
    "sffromcaltripsgrpbyend = sqlContext.sql(\"SELECT End_station, End_terminal, count(1) as cnt FROM sf_from_caltrain_bike_trips GROUP BY End_station, End_terminal ORDER BY cnt DESC\")"
   ]
  },
  {
   "cell_type": "code",
   "execution_count": 19,
   "metadata": {
    "collapsed": false
   },
   "outputs": [
    {
     "name": "stdout",
     "output_type": "stream",
     "text": [
      "+--------------------+------------+----+\n",
      "|         End_station|End_terminal| cnt|\n",
      "+--------------------+------------+----+\n",
      "|     Townsend at 7th|          65|4946|\n",
      "|Harry Bridges Pla...|          50|3026|\n",
      "|  Powell Street BART|          39|2984|\n",
      "|Temporary Transba...|          55|2813|\n",
      "|Embarcadero at Fo...|          51|2621|\n",
      "|      Market at 10th|          67|2609|\n",
      "|       5th at Howard|          57|2556|\n",
      "|   Steuart at Market|          74|2115|\n",
      "|   Market at Sansome|          77|2035|\n",
      "|       Howard at 2nd|          63|2011|\n",
      "|Yerba Buena Cente...|          68|1473|\n",
      "|    Davis at Jackson|          42|1308|\n",
      "|     2nd at Townsend|          61|1228|\n",
      "|       2nd at Folsom|          62|1141|\n",
      "|Broadway St at Ba...|          82|1140|\n",
      "|Embarcadero at Br...|          54|1051|\n",
      "|   2nd at South Park|          64|1048|\n",
      "|       Market at 4th|          76|1031|\n",
      "|Embarcadero at Sa...|          60|1018|\n",
      "|Embarcadero at Va...|          48|1014|\n",
      "+--------------------+------------+----+\n",
      "only showing top 20 rows\n",
      "\n"
     ]
    }
   ],
   "source": [
    "sffromcaltripsgrpbyend.show(20)"
   ]
  },
  {
   "cell_type": "code",
   "execution_count": 20,
   "metadata": {
    "collapsed": false
   },
   "outputs": [
    {
     "name": "stderr",
     "output_type": "stream",
     "text": [
      "/opt/anaconda2/envs/py27/lib/python2.7/site-packages/matplotlib/font_manager.py:273: UserWarning: Matplotlib is building the font cache using fc-list. This may take a moment.\n",
      "  warnings.warn('Matplotlib is building the font cache using fc-list. This may take a moment.')\n"
     ]
    },
    {
     "data": {
      "text/plain": [
       "[<matplotlib.text.Text at 0x7fc9ecb506d0>,\n",
       " <matplotlib.text.Text at 0x7fc9ecb53450>,\n",
       " <matplotlib.text.Text at 0x7fc9ed1ebad0>,\n",
       " <matplotlib.text.Text at 0x7fc9ed1fa250>,\n",
       " <matplotlib.text.Text at 0x7fc9ed1fa990>,\n",
       " <matplotlib.text.Text at 0x7fc9ed207110>,\n",
       " <matplotlib.text.Text at 0x7fc9ed207850>,\n",
       " <matplotlib.text.Text at 0x7fc9ed207f90>,\n",
       " <matplotlib.text.Text at 0x7fc9ed212710>,\n",
       " <matplotlib.text.Text at 0x7fc9ed212e50>,\n",
       " <matplotlib.text.Text at 0x7fc9ed2228d0>,\n",
       " <matplotlib.text.Text at 0x7fc9ed222e90>,\n",
       " <matplotlib.text.Text at 0x7fc9ec00f610>,\n",
       " <matplotlib.text.Text at 0x7fc9ec00fd50>,\n",
       " <matplotlib.text.Text at 0x7fc9ec0194d0>,\n",
       " <matplotlib.text.Text at 0x7fc9ec019c10>,\n",
       " <matplotlib.text.Text at 0x7fc9ed212990>,\n",
       " <matplotlib.text.Text at 0x7fc9ec020690>,\n",
       " <matplotlib.text.Text at 0x7fc9ec020dd0>,\n",
       " <matplotlib.text.Text at 0x7fc9ec02f550>,\n",
       " <matplotlib.text.Text at 0x7fc9ec02fc90>,\n",
       " <matplotlib.text.Text at 0x7fc9ec03a410>,\n",
       " <matplotlib.text.Text at 0x7fc9ec03ab50>,\n",
       " <matplotlib.text.Text at 0x7fc9ec0412d0>,\n",
       " <matplotlib.text.Text at 0x7fc9ec041a10>,\n",
       " <matplotlib.text.Text at 0x7fc9ed1ac190>,\n",
       " <matplotlib.text.Text at 0x7fc9ed1ac8d0>,\n",
       " <matplotlib.text.Text at 0x7fc9ed1b5050>,\n",
       " <matplotlib.text.Text at 0x7fc9ed1b5790>,\n",
       " <matplotlib.text.Text at 0x7fc9ed1b5ed0>,\n",
       " <matplotlib.text.Text at 0x7fc9ed1c1650>,\n",
       " <matplotlib.text.Text at 0x7fc9ed1c1d90>,\n",
       " <matplotlib.text.Text at 0x7fc9ed1c9510>,\n",
       " <matplotlib.text.Text at 0x7fc9ed1c9c50>,\n",
       " <matplotlib.text.Text at 0x7fc9ed1d43d0>,\n",
       " <matplotlib.text.Text at 0x7fc9ed1d4b10>]"
      ]
     },
     "execution_count": 20,
     "metadata": {},
     "output_type": "execute_result"
    },
    {
     "data": {
      "image/png": "[encoded data removed]",
      "text/plain": [
       "<matplotlib.figure.Figure at 0x7fc9ed7ff890>"
      ]
     },
     "metadata": {},
     "output_type": "display_data"
    }
   ],
   "source": [
    "%matplotlib inline\n",
    "import matplotlib.pyplot as plt\n",
    "import pandas as pd\n",
    "fig, ax = plt.subplots(nrows=1, ncols=1, figsize=(10,6));\n",
    "stationfq = pd.DataFrame(sffromcaltripsgrpbyend.collect(), columns = ['End_station', 'End_terminal','cnt'])\n",
    "stationfq['cnt'][:100].plot(kind='bar')\n",
    "ax.set_xticklabels(stationfq['End_station'][:100])"
   ]
  },
  {
   "cell_type": "code",
   "execution_count": null,
   "metadata": {
    "collapsed": true
   },
   "outputs": [],
   "source": []
  }
 ],
 "metadata": {
  "kernelspec": {
   "display_name": "PySpark (Spark 1.6.1)",
   "language": "python",
   "name": "pyspark"
  },
  "language_info": {
   "codemirror_mode": {
    "name": "ipython",
    "version": 2
   },
   "file_extension": ".py",
   "mimetype": "text/x-python",
   "name": "python",
   "nbconvert_exporter": "python",
   "pygments_lexer": "ipython2",
   "version": "2.7.11"
  }
 },
 "nbformat": 4,
 "nbformat_minor": 0
}
